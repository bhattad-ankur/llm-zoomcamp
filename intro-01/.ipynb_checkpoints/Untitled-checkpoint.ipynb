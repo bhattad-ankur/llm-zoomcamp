{
 "cells": [
  {
   "cell_type": "markdown",
   "id": "8c55ebfb-55a1-493d-a6ce-d791f2cb9a4d",
   "metadata": {},
   "source": [
    "# Retrival & Search"
   ]
  },
  {
   "cell_type": "code",
   "execution_count": 1,
   "id": "2db88017-6a8d-4283-892e-9ba70b37adf0",
   "metadata": {},
   "outputs": [],
   "source": [
    "# !wget https://raw.githubusercontent.com/alexeygrigorev/minsearch/refs/heads/main/minsearch.py\n",
    "# !wget https://raw.githubusercontent.com/DataTalksClub/llm-zoomcamp/refs/heads/main/01-intro/documents.json"
   ]
  },
  {
   "cell_type": "code",
   "execution_count": 4,
   "id": "a4301d27-087f-406c-b18f-d9514f577eaf",
   "metadata": {},
   "outputs": [],
   "source": [
    "import minsearch\n",
    "import json"
   ]
  },
  {
   "cell_type": "code",
   "execution_count": 6,
   "id": "a4d674ea-79d0-4b3d-a496-1c93022074b8",
   "metadata": {},
   "outputs": [],
   "source": [
    "with open(\"documents.json\" , \"rt\") as f_in :\n",
    "    docs_raw =  json.load(f_in)"
   ]
  },
  {
   "cell_type": "code",
   "execution_count": 9,
   "id": "672d3873-dea4-4ca7-8c41-ac541b579f6f",
   "metadata": {},
   "outputs": [],
   "source": [
    "documents = []\n",
    "\n",
    "for course_dict in docs_raw : \n",
    "    for docs in course_dict['documents'] : \n",
    "        docs['course'] = course_dict['course']\n",
    "        documents.append(docs)"
   ]
  },
  {
   "cell_type": "code",
   "execution_count": 13,
   "id": "97baca0f-5515-4f5e-af62-73aaad2b8abf",
   "metadata": {},
   "outputs": [],
   "source": [
    "index = minsearch.Index(\n",
    "    text_fields= ['text' , 'section' , 'question'],\n",
    "    keyword_fields= ['course']\n",
    ")"
   ]
  },
  {
   "cell_type": "code",
   "execution_count": 14,
   "id": "d8156b96-aa1a-4355-8ae1-c05f80bb9bbd",
   "metadata": {},
   "outputs": [
    {
     "data": {
      "text/plain": [
       "<minsearch.Index at 0x7b01e6a60ef0>"
      ]
     },
     "execution_count": 14,
     "metadata": {},
     "output_type": "execute_result"
    }
   ],
   "source": [
    "index.fit(documents)"
   ]
  },
  {
   "cell_type": "code",
   "execution_count": 15,
   "id": "f5f39d56-ba15-458d-8842-93ad35e29691",
   "metadata": {},
   "outputs": [],
   "source": []
  },
  {
   "cell_type": "code",
   "execution_count": 18,
   "id": "e51cfac4-21aa-4e89-a45e-d5ccc551a5d9",
   "metadata": {},
   "outputs": [],
   "source": []
  },
  {
   "cell_type": "code",
   "execution_count": 24,
   "id": "864548c9-b74a-426c-a4b4-30dc44a1cf9a",
   "metadata": {},
   "outputs": [
    {
     "data": {
      "text/plain": [
       "[{'text': \"Yes, even if you don't register, you're still eligible to submit the homeworks.\\nBe aware, however, that there will be deadlines for turning in the final projects. So don't leave everything for the last minute.\",\n",
       "  'section': 'General course-related questions',\n",
       "  'question': 'Course - Can I still join the course after the start date?',\n",
       "  'course': 'data-engineering-zoomcamp'},\n",
       " {'text': 'Yes, we will keep all the materials after the course finishes, so you can follow the course at your own pace after it finishes.\\nYou can also continue looking at the homeworks and continue preparing for the next cohort. I guess you can also start working on your final capstone project.',\n",
       "  'section': 'General course-related questions',\n",
       "  'question': 'Course - Can I follow the course after it finishes?',\n",
       "  'course': 'data-engineering-zoomcamp'},\n",
       " {'text': \"The purpose of this document is to capture frequently asked technical questions\\nThe exact day and hour of the course will be 15th Jan 2024 at 17h00. The course will start with the first  “Office Hours'' live.1\\nSubscribe to course public Google Calendar (it works from Desktop only).\\nRegister before the course starts using this link.\\nJoin the course Telegram channel with announcements.\\nDon’t forget to register in DataTalks.Club's Slack and join the channel.\",\n",
       "  'section': 'General course-related questions',\n",
       "  'question': 'Course - When will the course start?',\n",
       "  'course': 'data-engineering-zoomcamp'}]"
      ]
     },
     "execution_count": 24,
     "metadata": {},
     "output_type": "execute_result"
    }
   ],
   "source": [
    "results"
   ]
  },
  {
   "cell_type": "markdown",
   "id": "9c2532a2-439b-4130-b390-e99665d779cb",
   "metadata": {},
   "source": [
    "# Augmentation"
   ]
  },
  {
   "cell_type": "code",
   "execution_count": 43,
   "id": "6427e2bf-093d-42b7-9664-d7bbc2c4611b",
   "metadata": {},
   "outputs": [],
   "source": [
    "import google.generativeai as genai\n",
    "import os \n",
    "genai.configure(api_key= GOOGLE_API_KEY)"
   ]
  },
  {
   "cell_type": "code",
   "execution_count": 48,
   "id": "68d14914-636f-463f-b3af-fa9a2a984c32",
   "metadata": {},
   "outputs": [],
   "source": [
    "q = \"how long is the course\"\n",
    "\n",
    "boost = { 'question' : 3.0  , \"section\": 0.3 }\n",
    "\n",
    "results = index.search(\n",
    "    query= q, \n",
    "    boost_dict= boost, \n",
    "    num_results= 3,\n",
    "    filter_dict= {'course' : 'data-engineering-zoomcamp'}\n",
    ")\n",
    "\n",
    "context = \"\"\n",
    "for doc in results:\n",
    "    context += f\"section: {doc['section']} \\nquestion: {doc['question']}\\ntext: {doc['text']}\""
   ]
  },
  {
   "cell_type": "code",
   "execution_count": 49,
   "id": "45dae233-e8df-405c-8514-537264c0d812",
   "metadata": {},
   "outputs": [],
   "source": [
    "prompt_template = f\"\"\"\n",
    "You are a teaching assitant. Answer the questions based on the CONTEXT.\n",
    "Use only facts when asnwering the QUESTION from CONTEXT. \n",
    "If the CONTEXT does not have a answer return none.\n",
    "\n",
    "QUESTION: {q}\n",
    "CONTEXT: {context}\n",
    "\n",
    "\"\"\""
   ]
  },
  {
   "cell_type": "code",
   "execution_count": 50,
   "id": "d904bf8e-dce4-4029-8b2b-53cebce07392",
   "metadata": {},
   "outputs": [],
   "source": [
    "model = genai.GenerativeModel('gemini-1.5-flash')\n",
    "chat = model.start_chat(history=[])"
   ]
  },
  {
   "cell_type": "code",
   "execution_count": 51,
   "id": "f70b3bfb-1c28-43a7-8bd4-f7d2dcccfa95",
   "metadata": {},
   "outputs": [
    {
     "name": "stdout",
     "output_type": "stream",
     "text": [
      "None \n",
      "\n"
     ]
    }
   ],
   "source": [
    "response = chat.send_message(prompt_template)\n",
    "print(response.text)"
   ]
  }
 ],
 "metadata": {
  "kernelspec": {
   "display_name": "Python 3 (ipykernel)",
   "language": "python",
   "name": "python3"
  },
  "language_info": {
   "codemirror_mode": {
    "name": "ipython",
    "version": 3
   },
   "file_extension": ".py",
   "mimetype": "text/x-python",
   "name": "python",
   "nbconvert_exporter": "python",
   "pygments_lexer": "ipython3",
   "version": "3.12.1"
  }
 },
 "nbformat": 4,
 "nbformat_minor": 5
}
